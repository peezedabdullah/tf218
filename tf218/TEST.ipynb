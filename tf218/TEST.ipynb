{
 "cells": [
  {
   "cell_type": "code",
   "execution_count": null,
   "id": "d312b98c-fcb1-4213-8174-e6b53ab3ea60",
   "metadata": {},
   "outputs": [
    {
     "ename": "",
     "evalue": "",
     "output_type": "error",
     "traceback": [
      "\u001b[1;31mThe kernel failed to start as the Python Environment 'tf_gpu (Python -1.-1.-1)' is no longer available. Consider selecting another kernel or refreshing the list of Python Environments."
     ]
    }
   ],
   "source": [
    "import tensorflow as tf\n",
    "import time\n",
    "\n",
    "# Set matrix size (increase for more intensive computation)\n",
    "N = 10000\n",
    "\n",
    "# Generate random matrices\n",
    "A = tf.random.uniform((N, N))\n",
    "B = tf.random.uniform((N, N))\n",
    "\n",
    "# Function to test computation time on a specified device\n",
    "def matrix_multiplication_test(device_name):\n",
    "    with tf.device(device_name):\n",
    "        start_time = time.time()\n",
    "        C = tf.matmul(A, B)  # Matrix multiplication\n",
    "        tf.print(\"Computation finished.\")  # Ensure computation is triggered\n",
    "        end_time = time.time()\n",
    "    return end_time - start_time\n",
    "\n",
    "#Test on CPU\n",
    "cpu_time = matrix_multiplication_test('/CPU:0')\n",
    "print(f\"Time taken for matrix multiplication on CPU: {cpu_time:.4f} seconds\")\n",
    "\n",
    "# Test on GPU (if available)\n",
    "if tf.config.list_physical_devices('GPU'):\n",
    "    gpu_time = matrix_multiplication_test('/GPU:0')\n",
    "    print(f\"Time taken for matrix multiplication on GPU: {gpu_time:.4f} seconds\")\n",
    "    print(f\"GPU is {cpu_time / gpu_time:.2f} times faster than CPU.\")\n",
    "else:\n",
    "    print(\"No GPU found. Skipping GPU test.\")\n"
   ]
  },
  {
   "cell_type": "code",
   "execution_count": null,
   "id": "f5f360d8",
   "metadata": {},
   "outputs": [
    {
     "ename": "",
     "evalue": "",
     "output_type": "error",
     "traceback": [
      "\u001b[1;31mThe kernel failed to start as the Python Environment 'tf_gpu (Python -1.-1.-1)' is no longer available. Consider selecting another kernel or refreshing the list of Python Environments."
     ]
    }
   ],
   "source": [
    "tf.config.list_physical_devices()"
   ]
  },
  {
   "cell_type": "code",
   "execution_count": 3,
   "id": "1bd643e7-ec92-407f-806d-9cb6c8bec798",
   "metadata": {},
   "outputs": [
    {
     "name": "stdout",
     "output_type": "stream",
     "text": [
      "TensorFlow version: 2.18.0\n"
     ]
    }
   ],
   "source": [
    "print(\"TensorFlow version:\", tf.__version__)"
   ]
  },
  {
   "cell_type": "code",
   "execution_count": 4,
   "id": "7a72e2b4",
   "metadata": {},
   "outputs": [
    {
     "name": "stdout",
     "output_type": "stream",
     "text": [
      "Wed Dec 11 09:14:09 2024       \n",
      "+-----------------------------------------------------------------------------------------+\n",
      "| NVIDIA-SMI 565.57.02              Driver Version: 566.03         CUDA Version: 12.7     |\n",
      "|-----------------------------------------+------------------------+----------------------+\n",
      "| GPU  Name                 Persistence-M | Bus-Id          Disp.A | Volatile Uncorr. ECC |\n",
      "| Fan  Temp   Perf          Pwr:Usage/Cap |           Memory-Usage | GPU-Util  Compute M. |\n",
      "|                                         |                        |               MIG M. |\n",
      "|=========================================+========================+======================|\n",
      "|   0  NVIDIA GeForce RTX 2050        On  |   00000000:01:00.0 Off |                  N/A |\n",
      "| N/A   38C    P8              2W /   50W |    1855MiB /   4096MiB |      0%      Default |\n",
      "|                                         |                        |                  N/A |\n",
      "+-----------------------------------------+------------------------+----------------------+\n",
      "                                                                                         \n",
      "+-----------------------------------------------------------------------------------------+\n",
      "| Processes:                                                                              |\n",
      "|  GPU   GI   CI        PID   Type   Process name                              GPU Memory |\n",
      "|        ID   ID                                                               Usage      |\n",
      "|=========================================================================================|\n",
      "|    0   N/A  N/A    420032      C   /python3.12                                 N/A      |\n",
      "|    0   N/A  N/A    420185      C   /python3.12                                 N/A      |\n",
      "|    0   N/A  N/A    913650      C   /python3.12                                 N/A      |\n",
      "|    0   N/A  N/A    982989      C   /python3.12                                 N/A      |\n",
      "+-----------------------------------------------------------------------------------------+\n"
     ]
    }
   ],
   "source": [
    "!nvidia-smi"
   ]
  },
  {
   "cell_type": "code",
   "execution_count": null,
   "id": "56313391",
   "metadata": {},
   "outputs": [],
   "source": []
  },
  {
   "cell_type": "code",
   "execution_count": null,
   "id": "5ad3d687",
   "metadata": {},
   "outputs": [],
   "source": []
  }
 ],
 "metadata": {
  "kernelspec": {
   "display_name": "tf_gpu",
   "language": "python",
   "name": "python3"
  },
  "language_info": {
   "codemirror_mode": {
    "name": "ipython",
    "version": 3
   },
   "file_extension": ".py",
   "mimetype": "text/x-python",
   "name": "python",
   "nbconvert_exporter": "python",
   "pygments_lexer": "ipython3",
   "version": "undefined.undefined.undefined"
  }
 },
 "nbformat": 4,
 "nbformat_minor": 5
}
